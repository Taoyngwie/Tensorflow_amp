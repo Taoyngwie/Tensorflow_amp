{
 "cells": [
  {
   "cell_type": "code",
   "execution_count": 1,
   "id": "385687c2",
   "metadata": {},
   "outputs": [],
   "source": [
    "import tensorflow as tf\n",
    "from tensorflow.keras.datasets import mnist\n",
    "from tensorflow.keras.models import Sequential\n",
    "from tensorflow.keras.layers import Dense,Dropout\n",
    "from tensorflow.keras.layers import Flatten, MaxPooling2D,Conv2D"
   ]
  },
  {
   "cell_type": "code",
   "execution_count": 2,
   "id": "020083be",
   "metadata": {},
   "outputs": [],
   "source": [
    "(X_train,y_train),(X_test,y_test) = mnist.load_data()"
   ]
  },
  {
   "cell_type": "code",
   "execution_count": 3,
   "id": "80ff13a0",
   "metadata": {},
   "outputs": [],
   "source": [
    "X_train = X_train.reshape(60000,28,28,1).astype('float32')\n",
    "X_test = X_test.reshape(10000,28,28,1).astype('float32')"
   ]
  },
  {
   "cell_type": "code",
   "execution_count": 4,
   "id": "705d0160",
   "metadata": {},
   "outputs": [],
   "source": [
    "X_train /= 255\n",
    "X_test /= 255"
   ]
  },
  {
   "cell_type": "code",
   "execution_count": 5,
   "id": "57417677",
   "metadata": {},
   "outputs": [],
   "source": [
    "n_classes = 10\n",
    "y_train = tf.keras.utils.to_categorical(y_train,n_classes)\n",
    "y_test = tf.keras.utils.to_categorical(y_test,n_classes)"
   ]
  },
  {
   "cell_type": "markdown",
   "id": "e66e7290",
   "metadata": {},
   "source": [
    "# \n",
    "# build neural network\n",
    "\n"
   ]
  },
  {
   "cell_type": "code",
   "execution_count": 6,
   "id": "c7d8d974",
   "metadata": {},
   "outputs": [],
   "source": [
    "model = Sequential([Conv2D(32,kernel_size=(3,3),activation='relu',input_shape=(28,28,1)),\n",
    "                   Conv2D(32,kernel_size=(3,3),activation='relu'),\n",
    "                    MaxPooling2D(pool_size=(2,2)),\n",
    "                   Dropout(0.25),\n",
    "                    Flatten(),\n",
    "                    Dense(128,activation='relu'),\n",
    "                    Dense(n_classes,activation='softmax')])"
   ]
  },
  {
   "cell_type": "markdown",
   "id": "fa046544",
   "metadata": {},
   "source": [
    "# training and validation\n",
    "\n",
    "\n"
   ]
  },
  {
   "cell_type": "code",
   "execution_count": 7,
   "id": "13878b76",
   "metadata": {},
   "outputs": [],
   "source": [
    "model.compile(loss='categorical_crossentropy',optimizer='adam',metrics=['accuracy'])"
   ]
  },
  {
   "cell_type": "code",
   "execution_count": 8,
   "id": "9ea2f067",
   "metadata": {},
   "outputs": [
    {
     "name": "stdout",
     "output_type": "stream",
     "text": [
      "Epoch 1/10\n",
      "WARNING:tensorflow:AutoGraph could not transform <function Model.make_train_function.<locals>.train_function at 0x00000213D29E15E8> and will run it as-is.\n",
      "Please report this to the TensorFlow team. When filing the bug, set the verbosity to 10 (on Linux, `export AUTOGRAPH_VERBOSITY=10`) and attach the full output.\n",
      "Cause: 'arguments' object has no attribute 'posonlyargs'\n",
      "To silence this warning, decorate the function with @tf.autograph.experimental.do_not_convert\n",
      "WARNING: AutoGraph could not transform <function Model.make_train_function.<locals>.train_function at 0x00000213D29E15E8> and will run it as-is.\n",
      "Please report this to the TensorFlow team. When filing the bug, set the verbosity to 10 (on Linux, `export AUTOGRAPH_VERBOSITY=10`) and attach the full output.\n",
      "Cause: 'arguments' object has no attribute 'posonlyargs'\n",
      "To silence this warning, decorate the function with @tf.autograph.experimental.do_not_convert\n",
      "469/469 [==============================] - ETA: 0s - loss: 0.1950 - accuracy: 0.9427WARNING:tensorflow:AutoGraph could not transform <function Model.make_test_function.<locals>.test_function at 0x00000213D4ABB318> and will run it as-is.\n",
      "Please report this to the TensorFlow team. When filing the bug, set the verbosity to 10 (on Linux, `export AUTOGRAPH_VERBOSITY=10`) and attach the full output.\n",
      "Cause: 'arguments' object has no attribute 'posonlyargs'\n",
      "To silence this warning, decorate the function with @tf.autograph.experimental.do_not_convert\n",
      "WARNING: AutoGraph could not transform <function Model.make_test_function.<locals>.test_function at 0x00000213D4ABB318> and will run it as-is.\n",
      "Please report this to the TensorFlow team. When filing the bug, set the verbosity to 10 (on Linux, `export AUTOGRAPH_VERBOSITY=10`) and attach the full output.\n",
      "Cause: 'arguments' object has no attribute 'posonlyargs'\n",
      "To silence this warning, decorate the function with @tf.autograph.experimental.do_not_convert\n",
      "469/469 [==============================] - 55s 116ms/step - loss: 0.1950 - accuracy: 0.9427 - val_loss: 0.0598 - val_accuracy: 0.9823\n",
      "Epoch 2/10\n",
      "469/469 [==============================] - 51s 108ms/step - loss: 0.0574 - accuracy: 0.9819 - val_loss: 0.0366 - val_accuracy: 0.9881\n",
      "Epoch 3/10\n",
      "469/469 [==============================] - 50s 106ms/step - loss: 0.0392 - accuracy: 0.9873 - val_loss: 0.0428 - val_accuracy: 0.9875\n",
      "Epoch 4/10\n",
      "469/469 [==============================] - 53s 112ms/step - loss: 0.0289 - accuracy: 0.9910 - val_loss: 0.0408 - val_accuracy: 0.9870\n",
      "Epoch 5/10\n",
      "469/469 [==============================] - 49s 104ms/step - loss: 0.0236 - accuracy: 0.9921 - val_loss: 0.0348 - val_accuracy: 0.9883\n",
      "Epoch 6/10\n",
      "469/469 [==============================] - 49s 105ms/step - loss: 0.0187 - accuracy: 0.9936 - val_loss: 0.0292 - val_accuracy: 0.9902\n",
      "Epoch 7/10\n",
      "469/469 [==============================] - 44s 94ms/step - loss: 0.0142 - accuracy: 0.9954 - val_loss: 0.0364 - val_accuracy: 0.9893\n",
      "Epoch 8/10\n",
      "469/469 [==============================] - 43s 93ms/step - loss: 0.0127 - accuracy: 0.9961 - val_loss: 0.0302 - val_accuracy: 0.9914\n",
      "Epoch 9/10\n",
      "469/469 [==============================] - 50s 106ms/step - loss: 0.0111 - accuracy: 0.9963 - val_loss: 0.0394 - val_accuracy: 0.9870\n",
      "Epoch 10/10\n",
      "469/469 [==============================] - 43s 91ms/step - loss: 0.0101 - accuracy: 0.9965 - val_loss: 0.0385 - val_accuracy: 0.9894\n"
     ]
    },
    {
     "data": {
      "text/plain": [
       "<keras.callbacks.History at 0x213d2b9ddc8>"
      ]
     },
     "execution_count": 8,
     "metadata": {},
     "output_type": "execute_result"
    }
   ],
   "source": [
    "model.fit(X_train,y_train,batch_size=128,epochs=10,verbose=1,validation_data=(X_test,y_test))"
   ]
  },
  {
   "cell_type": "code",
   "execution_count": null,
   "id": "f74efe6c",
   "metadata": {},
   "outputs": [],
   "source": []
  }
 ],
 "metadata": {
  "kernelspec": {
   "display_name": "TensorFlow2-GPU",
   "language": "python",
   "name": "tf2_new"
  },
  "language_info": {
   "codemirror_mode": {
    "name": "ipython",
    "version": 3
   },
   "file_extension": ".py",
   "mimetype": "text/x-python",
   "name": "python",
   "nbconvert_exporter": "python",
   "pygments_lexer": "ipython3",
   "version": "3.7.9"
  }
 },
 "nbformat": 4,
 "nbformat_minor": 5
}
