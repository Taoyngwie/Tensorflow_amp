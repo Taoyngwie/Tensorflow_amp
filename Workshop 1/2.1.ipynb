{
 "cells": [
  {
   "cell_type": "markdown",
   "id": "9fc2cddb",
   "metadata": {},
   "source": [
    "Sample--> y_true = (0.75 * x_data) + 5 + noise"
   ]
  },
  {
   "cell_type": "code",
   "execution_count": 14,
   "id": "d1809d05",
   "metadata": {},
   "outputs": [],
   "source": [
    "import numpy as np\n",
    "import pandas as pd\n",
    "import matplotlib.pyplot as plt\n",
    "%matplotlib inline"
   ]
  },
  {
   "cell_type": "code",
   "execution_count": 15,
   "id": "29383586",
   "metadata": {},
   "outputs": [],
   "source": [
    "x_data = np.linspace(0.0,10.0,1000000)"
   ]
  },
  {
   "cell_type": "code",
   "execution_count": 16,
   "id": "89b14e81",
   "metadata": {},
   "outputs": [],
   "source": [
    "noise = np.random.randn(len(x_data))"
   ]
  },
  {
   "cell_type": "code",
   "execution_count": 17,
   "id": "6bbd625f",
   "metadata": {},
   "outputs": [],
   "source": [
    "y_true = (0.75 * x_data) + 5 + noise"
   ]
  },
  {
   "cell_type": "code",
   "execution_count": 18,
   "id": "5a049b68",
   "metadata": {},
   "outputs": [],
   "source": [
    "my_data = pd.concat([pd.DataFrame(data=x_data,columns=['X Data']),pd.DataFrame(data=y_true,columns=['Y'])],axis=1)"
   ]
  },
  {
   "cell_type": "code",
   "execution_count": 19,
   "id": "e7d0dc35",
   "metadata": {},
   "outputs": [
    {
     "data": {
      "text/plain": [
       "<AxesSubplot:xlabel='X Data', ylabel='Y'>"
      ]
     },
     "execution_count": 19,
     "metadata": {},
     "output_type": "execute_result"
    },
    {
     "data": {
      "image/png": "[encoded data removed]",
      "text/plain": [
       "<Figure size 432x288 with 1 Axes>"
      ]
     },
     "metadata": {
      "needs_background": "light"
     },
     "output_type": "display_data"
    }
   ],
   "source": [
    "my_data.sample(n=250).plot(kind='scatter',x='X Data',y = 'Y')"
   ]
  },
  {
   "cell_type": "code",
   "execution_count": 25,
   "id": "bb48114c",
   "metadata": {},
   "outputs": [
    {
     "name": "stdout",
     "output_type": "stream",
     "text": [
      "WARNING:tensorflow:From C:\\Users\\NITRO 5\\anaconda3\\envs\\tf2_new\\lib\\site-packages\\tensorflow\\python\\compat\\v2_compat.py:111: disable_resource_variables (from tensorflow.python.ops.variable_scope) is deprecated and will be removed in a future version.\n",
      "Instructions for updating:\n",
      "non-resource variables are not supported in the long term\n"
     ]
    }
   ],
   "source": [
    "import tensorflow.compat.v1 as tf\n",
    "tf.disable_v2_behavior()\n"
   ]
  },
  {
   "cell_type": "code",
   "execution_count": 26,
   "id": "dabc57e8",
   "metadata": {},
   "outputs": [],
   "source": [
    "m = tf.Variable(tf.ones([1],tf.float32))\n",
    "b = tf.Variable(tf.ones([1],tf.float32))"
   ]
  },
  {
   "cell_type": "code",
   "execution_count": 27,
   "id": "cbabe769",
   "metadata": {},
   "outputs": [],
   "source": [
    "xph = tf.placeholder(tf.float32,[10])\n",
    "yph = tf.placeholder(tf.float32,[10])"
   ]
  },
  {
   "cell_type": "code",
   "execution_count": 28,
   "id": "0a15988e",
   "metadata": {},
   "outputs": [],
   "source": [
    "y = m * xph + b"
   ]
  },
  {
   "cell_type": "code",
   "execution_count": 29,
   "id": "b384410f",
   "metadata": {},
   "outputs": [],
   "source": [
    "error = tf.reduce_sum(tf.square(y-yph))"
   ]
  },
  {
   "cell_type": "code",
   "execution_count": 30,
   "id": "e1642972",
   "metadata": {},
   "outputs": [],
   "source": [
    "optimizer = tf.train.GradientDescentOptimizer(learning_rate=0.001)\n",
    "train = optimizer.minimize(error)"
   ]
  },
  {
   "cell_type": "code",
   "execution_count": 31,
   "id": "70759fab",
   "metadata": {},
   "outputs": [],
   "source": [
    "init = tf.global_variables_initializer()"
   ]
  },
  {
   "cell_type": "code",
   "execution_count": 34,
   "id": "ba32e079",
   "metadata": {},
   "outputs": [],
   "source": [
    "with tf.Session() as sess:\n",
    "    \n",
    "    sess.run(init)\n",
    "    \n",
    "    epoch = 1000\n",
    "    \n",
    "    for i in range(epoch):\n",
    "        rand_ind = np.random.randint(len(x_data),size=10)\n",
    "        \n",
    "        feed = {xph:x_data[rand_ind],yph:y_true[rand_ind]}\n",
    "        \n",
    "        sess.run(train,feed_dict=feed)\n",
    "        \n",
    "    model_m,model_b = sess.run([m,b])\n",
    "        \n",
    "    "
   ]
  },
  {
   "cell_type": "code",
   "execution_count": 36,
   "id": "c2ac8fbe",
   "metadata": {},
   "outputs": [
    {
     "data": {
      "text/plain": [
       "array([0.7491783], dtype=float32)"
      ]
     },
     "execution_count": 36,
     "metadata": {},
     "output_type": "execute_result"
    }
   ],
   "source": [
    "model_m"
   ]
  },
  {
   "cell_type": "code",
   "execution_count": 37,
   "id": "2b9c83ee",
   "metadata": {},
   "outputs": [
    {
     "data": {
      "text/plain": [
       "array([4.950332], dtype=float32)"
      ]
     },
     "execution_count": 37,
     "metadata": {},
     "output_type": "execute_result"
    }
   ],
   "source": [
    "model_b"
   ]
  },
  {
   "cell_type": "code",
   "execution_count": null,
   "id": "136c48c7",
   "metadata": {},
   "outputs": [],
   "source": []
  }
 ],
 "metadata": {
  "kernelspec": {
   "display_name": "TensorFlow2-GPU",
   "language": "python",
   "name": "tf2_new"
  },
  "language_info": {
   "codemirror_mode": {
    "name": "ipython",
    "version": 3
   },
   "file_extension": ".py",
   "mimetype": "text/x-python",
   "name": "python",
   "nbconvert_exporter": "python",
   "pygments_lexer": "ipython3",
   "version": "3.7.9"
  }
 },
 "nbformat": 4,
 "nbformat_minor": 5
}
