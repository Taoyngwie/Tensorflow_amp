{
 "cells": [
  {
   "cell_type": "code",
   "execution_count": 1,
   "id": "80dfad18",
   "metadata": {},
   "outputs": [],
   "source": [
    "import tensorflow as tf\n",
    "from tensorflow.keras.datasets import mnist\n",
    "from tensorflow.keras.layers import Input\n",
    "from tensorflow.keras.layers import Dense,Dropout\n",
    "from tensorflow.keras.layers import Flatten, MaxPooling2D,Conv2D"
   ]
  },
  {
   "cell_type": "code",
   "execution_count": 2,
   "id": "aeeeda79",
   "metadata": {},
   "outputs": [],
   "source": [
    "(X_train,y_train),(X_test,y_test) = mnist.load_data()"
   ]
  },
  {
   "cell_type": "code",
   "execution_count": 3,
   "id": "6301c9bc",
   "metadata": {},
   "outputs": [],
   "source": [
    "X_train = X_train.reshape(60000,28,28,1).astype('float32')\n",
    "X_test = X_test.reshape(10000,28,28,1).astype('float32')"
   ]
  },
  {
   "cell_type": "code",
   "execution_count": 4,
   "id": "cac4c96f",
   "metadata": {},
   "outputs": [],
   "source": [
    "X_train /= 255\n",
    "X_test /= 255"
   ]
  },
  {
   "cell_type": "code",
   "execution_count": 5,
   "id": "62b98b49",
   "metadata": {},
   "outputs": [],
   "source": [
    "n_classes = 10\n",
    "y_train = tf.keras.utils.to_categorical(y_train,n_classes)\n",
    "y_test = tf.keras.utils.to_categorical(y_test,n_classes)"
   ]
  },
  {
   "cell_type": "markdown",
   "id": "6976bffd",
   "metadata": {},
   "source": [
    "# build neural network"
   ]
  },
  {
   "cell_type": "code",
   "execution_count": 11,
   "id": "129d4b91",
   "metadata": {},
   "outputs": [],
   "source": [
    "#Define layer and interaction\n",
    "input_layer = Input(shape=(28,28,1)) \n",
    "Layer_2 = Conv2D(32,kernel_size=(3,3),activation='relu')(input_layer)\n",
    "Layer_3 = Conv2D(64,kernel_size=(3,3),activation='relu')(Layer_2)\n",
    "Layer_4 = MaxPooling2D(pool_size=(2,2))(Layer_3)\n",
    "Layer_5 = Dropout(0.25)(Layer_4)\n",
    "Layer_6 = Flatten()(Layer_5)\n",
    "Layer_7 = Dense(128,activation='relu')(Layer_6)\n",
    "Layer_8 = Dropout(0.25)(Layer_7)\n",
    "output_layer = Dense(n_classes,activation='softmax')(Layer_8)"
   ]
  },
  {
   "cell_type": "code",
   "execution_count": 13,
   "id": "f87b0367",
   "metadata": {},
   "outputs": [],
   "source": [
    "#build model\n",
    "model = tf.keras.Model(\n",
    "    inputs = [input_layer],\n",
    "    outputs = [output_layer])"
   ]
  },
  {
   "cell_type": "code",
   "execution_count": 14,
   "id": "fd5df586",
   "metadata": {},
   "outputs": [],
   "source": [
    "model.compile(loss='categorical_crossentropy',optimizer='adam',metrics=['accuracy'])"
   ]
  },
  {
   "cell_type": "code",
   "execution_count": 16,
   "id": "d7a590d3",
   "metadata": {},
   "outputs": [
    {
     "name": "stdout",
     "output_type": "stream",
     "text": [
      "Epoch 1/10\n",
      "WARNING:tensorflow:AutoGraph could not transform <function Model.make_train_function.<locals>.train_function at 0x0000022D72760DC8> and will run it as-is.\n",
      "Please report this to the TensorFlow team. When filing the bug, set the verbosity to 10 (on Linux, `export AUTOGRAPH_VERBOSITY=10`) and attach the full output.\n",
      "Cause: 'arguments' object has no attribute 'posonlyargs'\n",
      "To silence this warning, decorate the function with @tf.autograph.experimental.do_not_convert\n",
      "WARNING: AutoGraph could not transform <function Model.make_train_function.<locals>.train_function at 0x0000022D72760DC8> and will run it as-is.\n",
      "Please report this to the TensorFlow team. When filing the bug, set the verbosity to 10 (on Linux, `export AUTOGRAPH_VERBOSITY=10`) and attach the full output.\n",
      "Cause: 'arguments' object has no attribute 'posonlyargs'\n",
      "To silence this warning, decorate the function with @tf.autograph.experimental.do_not_convert\n",
      "469/469 [==============================] - ETA: 0s - loss: 0.1775 - accuracy: 0.9462WARNING:tensorflow:AutoGraph could not transform <function Model.make_test_function.<locals>.test_function at 0x0000022D06071828> and will run it as-is.\n",
      "Please report this to the TensorFlow team. When filing the bug, set the verbosity to 10 (on Linux, `export AUTOGRAPH_VERBOSITY=10`) and attach the full output.\n",
      "Cause: 'arguments' object has no attribute 'posonlyargs'\n",
      "To silence this warning, decorate the function with @tf.autograph.experimental.do_not_convert\n",
      "WARNING: AutoGraph could not transform <function Model.make_test_function.<locals>.test_function at 0x0000022D06071828> and will run it as-is.\n",
      "Please report this to the TensorFlow team. When filing the bug, set the verbosity to 10 (on Linux, `export AUTOGRAPH_VERBOSITY=10`) and attach the full output.\n",
      "Cause: 'arguments' object has no attribute 'posonlyargs'\n",
      "To silence this warning, decorate the function with @tf.autograph.experimental.do_not_convert\n",
      "469/469 [==============================] - 55s 115ms/step - loss: 0.1775 - accuracy: 0.9462 - val_loss: 0.0451 - val_accuracy: 0.9852\n",
      "Epoch 2/10\n",
      "469/469 [==============================] - 56s 119ms/step - loss: 0.0569 - accuracy: 0.9829 - val_loss: 0.0347 - val_accuracy: 0.9890\n",
      "Epoch 3/10\n",
      "469/469 [==============================] - 59s 127ms/step - loss: 0.0410 - accuracy: 0.9874 - val_loss: 0.0358 - val_accuracy: 0.9875\n",
      "Epoch 4/10\n",
      "469/469 [==============================] - 57s 121ms/step - loss: 0.0301 - accuracy: 0.9901 - val_loss: 0.0283 - val_accuracy: 0.9905\n",
      "Epoch 5/10\n",
      "469/469 [==============================] - 55s 117ms/step - loss: 0.0234 - accuracy: 0.9925 - val_loss: 0.0295 - val_accuracy: 0.9902\n",
      "Epoch 6/10\n",
      "469/469 [==============================] - 60s 127ms/step - loss: 0.0214 - accuracy: 0.9930 - val_loss: 0.0298 - val_accuracy: 0.9910\n",
      "Epoch 7/10\n",
      "469/469 [==============================] - 60s 127ms/step - loss: 0.0168 - accuracy: 0.9946 - val_loss: 0.0296 - val_accuracy: 0.9903\n",
      "Epoch 8/10\n",
      "469/469 [==============================] - 59s 126ms/step - loss: 0.0165 - accuracy: 0.9944 - val_loss: 0.0315 - val_accuracy: 0.9917\n",
      "Epoch 9/10\n",
      "469/469 [==============================] - 66s 140ms/step - loss: 0.0130 - accuracy: 0.9956 - val_loss: 0.0364 - val_accuracy: 0.9902\n",
      "Epoch 10/10\n",
      "469/469 [==============================] - 66s 140ms/step - loss: 0.0120 - accuracy: 0.9959 - val_loss: 0.0293 - val_accuracy: 0.9907\n"
     ]
    },
    {
     "data": {
      "text/plain": [
       "<keras.callbacks.History at 0x22d06115d08>"
      ]
     },
     "execution_count": 16,
     "metadata": {},
     "output_type": "execute_result"
    }
   ],
   "source": [
    "model.fit(X_train,y_train,batch_size=128,epochs=10,verbose=1,validation_data=(X_test,y_test))"
   ]
  },
  {
   "cell_type": "code",
   "execution_count": 20,
   "id": "147ddb27",
   "metadata": {},
   "outputs": [],
   "source": [
    "#Define layer and interaction\n",
    "layer_1 = tf.keras.Input(shape=(10,))\n",
    "layer_2 = tf.keras.layers.Dense(10)(layer_1)\n",
    "layer_3 = tf.keras.layers.Dense(10)(layer_1)\n",
    "\n",
    "#build model\n",
    "non_linear_model = tf.keras.Model(\n",
    "    inputs = [layer_1],\n",
    "    outputs = [layer_2,layer_3])"
   ]
  }
 ],
 "metadata": {
  "kernelspec": {
   "display_name": "TensorFlow2-GPU",
   "language": "python",
   "name": "tf2_new"
  },
  "language_info": {
   "codemirror_mode": {
    "name": "ipython",
    "version": 3
   },
   "file_extension": ".py",
   "mimetype": "text/x-python",
   "name": "python",
   "nbconvert_exporter": "python",
   "pygments_lexer": "ipython3",
   "version": "3.7.9"
  }
 },
 "nbformat": 4,
 "nbformat_minor": 5
}
