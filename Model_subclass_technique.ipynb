{
 "cells": [
  {
   "cell_type": "code",
   "execution_count": 2,
   "id": "d5388d59",
   "metadata": {},
   "outputs": [],
   "source": [
    "import tensorflow as tf\n",
    "from tensorflow.keras.datasets import mnist\n",
    "from tensorflow.keras.layers import Input\n",
    "from tensorflow.keras.layers import Dense,Dropout\n",
    "from tensorflow.keras.layers import Flatten, MaxPooling2D,Conv2D\n"
   ]
  },
  {
   "cell_type": "code",
   "execution_count": 3,
   "id": "e1abef16",
   "metadata": {},
   "outputs": [],
   "source": [
    "(X_train,y_train),(X_test,y_test) = mnist.load_data()"
   ]
  },
  {
   "cell_type": "code",
   "execution_count": 4,
   "id": "16dc0fdb",
   "metadata": {},
   "outputs": [],
   "source": [
    "X_train = X_train.reshape(60000,28,28,1).astype('float32')\n",
    "X_test = X_test.reshape(10000,28,28,1).astype('float32')"
   ]
  },
  {
   "cell_type": "code",
   "execution_count": 5,
   "id": "9e154171",
   "metadata": {},
   "outputs": [],
   "source": [
    "X_train /= 255\n",
    "X_test /= 255"
   ]
  },
  {
   "cell_type": "code",
   "execution_count": 6,
   "id": "948f375c",
   "metadata": {},
   "outputs": [],
   "source": [
    "n_classes = 10\n",
    "y_train = tf.keras.utils.to_categorical(y_train,n_classes)\n",
    "y_test = tf.keras.utils.to_categorical(y_test,n_classes)"
   ]
  },
  {
   "cell_type": "markdown",
   "id": "567d6223",
   "metadata": {},
   "source": [
    "# build neural network"
   ]
  },
  {
   "cell_type": "code",
   "execution_count": 10,
   "id": "65c21b90",
   "metadata": {},
   "outputs": [],
   "source": [
    "class DNNClassifier(tf.keras.Model):\n",
    "    def __init__(self):\n",
    "        super(DNNClassifier,self).__init__()\n",
    "        self.Layer_1 = Conv2D(32,kernel_size=(3,3),activation='relu')\n",
    "        self.Layer_2 = Conv2D(32,kernel_size=(3,3),activation='relu')\n",
    "        self.Layer_3 = MaxPooling2D(pool_size=(2,2))\n",
    "        self.Layer_4 = Dropout(0.25)\n",
    "        self.Layer_5 = Flatten()\n",
    "        self.Layer_6 = Dense(128,activation='relu')\n",
    "        self.Layer_7 = Dropout(0.5)\n",
    "        self.Classifier = Dense(10,activation='softmax')\n",
    "        \n",
    "    def call(self,x):\n",
    "        x = self.Layer_1(x)\n",
    "        x = self.Layer_2(x)\n",
    "        x = self.Layer_3(x)\n",
    "        x = self.Layer_4(x)\n",
    "        x = self.Layer_5(x)\n",
    "        x = self.Layer_6(x)\n",
    "        x = self.Layer_7(x)\n",
    "        return self.Classifier(x)"
   ]
  },
  {
   "cell_type": "code",
   "execution_count": 11,
   "id": "be87c8ac",
   "metadata": {},
   "outputs": [],
   "source": [
    "model = DNNClassifier()"
   ]
  },
  {
   "cell_type": "markdown",
   "id": "e2691510",
   "metadata": {},
   "source": [
    "# training and validation"
   ]
  },
  {
   "cell_type": "code",
   "execution_count": 12,
   "id": "b66e6cf8",
   "metadata": {},
   "outputs": [],
   "source": [
    "model.compile(loss='categorical_crossentropy',optimizer='adam',metrics=['accuracy'])"
   ]
  },
  {
   "cell_type": "code",
   "execution_count": 13,
   "id": "a903e747",
   "metadata": {},
   "outputs": [
    {
     "name": "stdout",
     "output_type": "stream",
     "text": [
      "Epoch 1/10\n",
      "WARNING:tensorflow:AutoGraph could not transform <function Model.make_train_function.<locals>.train_function at 0x000001E93B8C5C18> and will run it as-is.\n",
      "Please report this to the TensorFlow team. When filing the bug, set the verbosity to 10 (on Linux, `export AUTOGRAPH_VERBOSITY=10`) and attach the full output.\n",
      "Cause: 'arguments' object has no attribute 'posonlyargs'\n",
      "To silence this warning, decorate the function with @tf.autograph.experimental.do_not_convert\n",
      "WARNING: AutoGraph could not transform <function Model.make_train_function.<locals>.train_function at 0x000001E93B8C5C18> and will run it as-is.\n",
      "Please report this to the TensorFlow team. When filing the bug, set the verbosity to 10 (on Linux, `export AUTOGRAPH_VERBOSITY=10`) and attach the full output.\n",
      "Cause: 'arguments' object has no attribute 'posonlyargs'\n",
      "To silence this warning, decorate the function with @tf.autograph.experimental.do_not_convert\n",
      "WARNING:tensorflow:AutoGraph could not transform <bound method DNNClassifier.call of <__main__.DNNClassifier object at 0x000001E93B4390C8>> and will run it as-is.\n",
      "Please report this to the TensorFlow team. When filing the bug, set the verbosity to 10 (on Linux, `export AUTOGRAPH_VERBOSITY=10`) and attach the full output.\n",
      "Cause: 'arguments' object has no attribute 'posonlyargs'\n",
      "To silence this warning, decorate the function with @tf.autograph.experimental.do_not_convert\n",
      "WARNING: AutoGraph could not transform <bound method DNNClassifier.call of <__main__.DNNClassifier object at 0x000001E93B4390C8>> and will run it as-is.\n",
      "Please report this to the TensorFlow team. When filing the bug, set the verbosity to 10 (on Linux, `export AUTOGRAPH_VERBOSITY=10`) and attach the full output.\n",
      "Cause: 'arguments' object has no attribute 'posonlyargs'\n",
      "To silence this warning, decorate the function with @tf.autograph.experimental.do_not_convert\n",
      "469/469 [==============================] - ETA: 0s - loss: 0.2708 - accuracy: 0.9179WARNING:tensorflow:AutoGraph could not transform <function Model.make_test_function.<locals>.test_function at 0x000001E93DA0EA68> and will run it as-is.\n",
      "Please report this to the TensorFlow team. When filing the bug, set the verbosity to 10 (on Linux, `export AUTOGRAPH_VERBOSITY=10`) and attach the full output.\n",
      "Cause: 'arguments' object has no attribute 'posonlyargs'\n",
      "To silence this warning, decorate the function with @tf.autograph.experimental.do_not_convert\n",
      "WARNING: AutoGraph could not transform <function Model.make_test_function.<locals>.test_function at 0x000001E93DA0EA68> and will run it as-is.\n",
      "Please report this to the TensorFlow team. When filing the bug, set the verbosity to 10 (on Linux, `export AUTOGRAPH_VERBOSITY=10`) and attach the full output.\n",
      "Cause: 'arguments' object has no attribute 'posonlyargs'\n",
      "To silence this warning, decorate the function with @tf.autograph.experimental.do_not_convert\n",
      "469/469 [==============================] - 42s 88ms/step - loss: 0.2708 - accuracy: 0.9179 - val_loss: 0.0534 - val_accuracy: 0.9825\n",
      "Epoch 2/10\n",
      "469/469 [==============================] - 40s 86ms/step - loss: 0.0943 - accuracy: 0.9724 - val_loss: 0.0408 - val_accuracy: 0.9860\n",
      "Epoch 3/10\n",
      "469/469 [==============================] - 40s 85ms/step - loss: 0.0718 - accuracy: 0.9784 - val_loss: 0.0341 - val_accuracy: 0.9877\n",
      "Epoch 4/10\n",
      "469/469 [==============================] - 40s 85ms/step - loss: 0.0605 - accuracy: 0.9816 - val_loss: 0.0325 - val_accuracy: 0.9887\n",
      "Epoch 5/10\n",
      "469/469 [==============================] - 41s 87ms/step - loss: 0.0526 - accuracy: 0.9835 - val_loss: 0.0305 - val_accuracy: 0.9887\n",
      "Epoch 6/10\n",
      "469/469 [==============================] - 41s 88ms/step - loss: 0.0468 - accuracy: 0.9861 - val_loss: 0.0274 - val_accuracy: 0.9918\n",
      "Epoch 7/10\n",
      "469/469 [==============================] - 42s 89ms/step - loss: 0.0417 - accuracy: 0.9871 - val_loss: 0.0269 - val_accuracy: 0.9921\n",
      "Epoch 8/10\n",
      "469/469 [==============================] - 41s 88ms/step - loss: 0.0384 - accuracy: 0.9879 - val_loss: 0.0304 - val_accuracy: 0.9898\n",
      "Epoch 9/10\n",
      "469/469 [==============================] - 42s 89ms/step - loss: 0.0346 - accuracy: 0.9891 - val_loss: 0.0307 - val_accuracy: 0.9896\n",
      "Epoch 10/10\n",
      "469/469 [==============================] - 41s 88ms/step - loss: 0.0324 - accuracy: 0.9897 - val_loss: 0.0285 - val_accuracy: 0.9910\n"
     ]
    },
    {
     "data": {
      "text/plain": [
       "<keras.callbacks.History at 0x1e93d327e48>"
      ]
     },
     "execution_count": 13,
     "metadata": {},
     "output_type": "execute_result"
    }
   ],
   "source": [
    "model.fit(X_train,y_train,batch_size=128,epochs=10,verbose=1,validation_data=(X_test,y_test))"
   ]
  },
  {
   "cell_type": "markdown",
   "id": "dcd5a94c",
   "metadata": {},
   "source": [
    "# non-linear model example"
   ]
  },
  {
   "cell_type": "code",
   "execution_count": 17,
   "id": "43205235",
   "metadata": {},
   "outputs": [],
   "source": [
    "class NonLinear_DNN(tf.keras.Model):\n",
    "    def __init__(self):\n",
    "        super(NonLinear_DNN,self).__init__()\n",
    "        self.dense1 = tf.keras.layers.Dense(10)\n",
    "        self.dense2 = tf.keras.layers.Dense(10)\n",
    "        self.dense3 = tf.keras.layers.Dense(10)\n",
    "        \n",
    "    def call(self,x):\n",
    "        x = self.dense1(x)\n",
    "        return self.dense2(x),self.dense3(x)"
   ]
  },
  {
   "cell_type": "code",
   "execution_count": 18,
   "id": "8e442ebe",
   "metadata": {},
   "outputs": [],
   "source": [
    "non_linear_model = NonLinear_DNN()"
   ]
  }
 ],
 "metadata": {
  "kernelspec": {
   "display_name": "TensorFlow2-GPU",
   "language": "python",
   "name": "tf2_new"
  },
  "language_info": {
   "codemirror_mode": {
    "name": "ipython",
    "version": 3
   },
   "file_extension": ".py",
   "mimetype": "text/x-python",
   "name": "python",
   "nbconvert_exporter": "python",
   "pygments_lexer": "ipython3",
   "version": "3.7.9"
  }
 },
 "nbformat": 4,
 "nbformat_minor": 5
}
